{
 "cells": [
  {
   "metadata": {},
   "cell_type": "markdown",
   "source": [
    "# ResNet50 Skin Lesion CLassification\n",
    "\n",
    "The project aims to develop a deep learning model for accurately classifying skin lesions into distinct categories, including melanoma, nevi, and benign lesions. Skin lesion classification is a critical task in dermatology, and automating this process using deep learning techniques can aid in early detection and improved patient outcomes.\n",
    "Unlike standard datasets such as MNIST or CIFAR-10, which are limited in diversity, skin lesion classification presents challenges due to the variability and complexity of skin conditions.\n",
    "\n",
    "The project utilizes the International Skin Imaging Collaboration (ISIC) dataset, which contains a diverse collection of dermatoscopic images encompassing various skin lesion types. The dataset is annotated with ground truth labels for lesion categories, providing a valuable resource for supervised learning tasks in skin lesion classification.\n",
    "\n",
    "Dataset URL: https://challenge.isic-archive.com/data/\n",
    "\n",
    "The version I have used it the 2016 version.\n",
    "\n",
    "\n",
    "Task: Training a deep neural network to accurately classify skin lesions into predefined categories, including melanoma (malignant), nevi, and benign lesions. I will explore architectures such as ResNet, VGG,\n",
    "or custom networks suitable for handling complex image features specific to dermatoscopic images. \n",
    "Data augmentation techniques such as rotation, flipping, scaling, and color jittering will be employed to improve model\n",
    "generalization and robustness. The problem is a 2 class classification task given the labels of benign and malignant in the ground-truth files.\n",
    "\n",
    "\n",
    "Relevant Papers:\n",
    "1. Kassem, Mohamed A., et al.\n",
    "\"Machine learning and deep learning methods for skin lesion classification and\n",
    "diagnosis: a systematic review.\n",
    "\" Diagnostics 11.8 (2021): 1390.\n",
    "2. Lopez, Adria Romero, et al.\n",
    "\"Skin lesion classification from dermoscopic images using deep learning\n",
    "techniques.\n",
    "\" 2017 13th IASTED international conference on biomedical engineering (BioMed). IEEE, 2017.\n",
    "3. Benyahia, Samia, Boudjelal Meftah, and Olivier Lézoray.\n",
    "lesion classification.\n",
    "\" Tissue and Cell 74 (2022): 101701."
   ],
   "id": "ac76c7fbc18b134d"
  },
  {
   "metadata": {},
   "cell_type": "markdown",
   "source": "### Installing the Required Libraries",
   "id": "b6be1da614d839b6"
  },
  {
   "metadata": {
    "collapsed": true
   },
   "cell_type": "code",
   "outputs": [],
   "execution_count": null,
   "source": "%pip install torch torchvision torchmetrics pillow numpy pandas matplotlib seaborn scikit-learn tqdm",
   "id": "initial_id"
  },
  {
   "metadata": {},
   "cell_type": "markdown",
   "source": "### Importing Required Libraries",
   "id": "983beb5c46425e98"
  },
  {
   "metadata": {},
   "cell_type": "code",
   "outputs": [],
   "execution_count": null,
   "source": [
    "import os\n",
    "import pandas as pd\n",
    "import torch\n",
    "import torch.nn as nn\n",
    "import torch.optim as optim\n",
    "from torch.utils.data import DataLoader, Dataset\n",
    "from torchvision import transforms, models\n",
    "from PIL import Image\n",
    "from sklearn.metrics import classification_report, confusion_matrix\n",
    "import matplotlib.pyplot as plt\n",
    "import seaborn as sns\n",
    "import random"
   ],
   "id": "3ae9558aff54d382"
  },
  {
   "metadata": {},
   "cell_type": "markdown",
   "source": "",
   "id": "29132d5aa559422c"
  }
 ],
 "metadata": {
  "kernelspec": {
   "display_name": "Python 3",
   "language": "python",
   "name": "python3"
  },
  "language_info": {
   "codemirror_mode": {
    "name": "ipython",
    "version": 2
   },
   "file_extension": ".py",
   "mimetype": "text/x-python",
   "name": "python",
   "nbconvert_exporter": "python",
   "pygments_lexer": "ipython2",
   "version": "2.7.6"
  }
 },
 "nbformat": 4,
 "nbformat_minor": 5
}
